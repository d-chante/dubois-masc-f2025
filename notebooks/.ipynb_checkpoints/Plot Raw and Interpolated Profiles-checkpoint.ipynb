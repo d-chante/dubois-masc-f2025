{
 "cells": [
  {
   "cell_type": "code",
   "execution_count": null,
   "id": "bf702cc1-5161-42b8-b4ee-f5ac1f2c9f10",
   "metadata": {},
   "outputs": [],
   "source": [
    "import random\n",
    "\n",
    "from utils import (\n",
    "    CollectStatisticsFromProfilesV1,\n",
    "    CollectStatisticsFromProfilesV2,\n",
    "    LoadProfileList,\n",
    "    PlotRawAndInterpolatedData,\n",
    "    SetupOutputDir\n",
    ")\n",
    "\n",
    "PROFILES_V1_LIST_JSON = '/workspace/outputs/profiles-v1/profiles_v1_experiment_2_20250326_0344/profile_list_v1_in_range.json'\n",
    "PROFILES_V2_LIST_JSON = '/workspace/datasets/profiles-v2/profile_list_v2.json'\n",
    "\n",
    "PROFILES_V1_DIR = '/workspace/datasets/profiles-v1/profiles-v1-jsons'\n",
    "PROFILES_V2_DIR = '/workspace/datasets/profiles-v2/profiles-v2-jsons'\n",
    "\n",
    "OUTPUT_DIR = '/workspace/outputs'"
   ]
  },
  {
   "cell_type": "code",
   "execution_count": null,
   "id": "3252f174-b104-4706-9431-6cdb5adba1d8",
   "metadata": {},
   "outputs": [],
   "source": [
    "model_dir = SetupOutputDir(OUTPUT_DIR, parent_folder='dataset_metrics')\n",
    "print(f\"Created directory {model_dir}\")"
   ]
  },
  {
   "cell_type": "code",
   "execution_count": null,
   "id": "6ec9aea5-cbd3-4ff1-aefb-a5477c9f36a7",
   "metadata": {},
   "outputs": [],
   "source": [
    "# * * * * * * * * * * * * * * * *\n",
    "# Common Profile List\n",
    "# * * * * * * * * * * * * * * * *\n",
    "profile_list_v1 = LoadProfileList(PROFILES_V1_LIST_JSON)\n",
    "profile_list_v2 = LoadProfileList(PROFILES_V2_LIST_JSON)\n",
    "profile_list = list(set(profile_list_v1) & set(profile_list_v2))"
   ]
  },
  {
   "cell_type": "code",
   "execution_count": null,
   "id": "a2034069-b07e-4c40-b1c9-71267452e1ac",
   "metadata": {},
   "outputs": [],
   "source": [
    "# * * * * * * * * * * * * * * * *\n",
    "# Random Comparative Examples\n",
    "# * * * * * * * * * * * * * * * *\n",
    "RANDOM_PICK = 1000\n",
    "selected_profiles = random.sample(profile_list, RANDOM_PICK)\n",
    "\n",
    "for profile in selected_profiles:\n",
    "    PlotRawAndInterpolatedData(profile, PROFILES_V2_DIR, PROFILES_V1_DIR, output_dir=model_dir)"
   ]
  },
  {
   "cell_type": "code",
   "execution_count": null,
   "id": "c884f98b-8611-401e-a54c-a7a1728615bb",
   "metadata": {},
   "outputs": [],
   "source": []
  }
 ],
 "metadata": {
  "kernelspec": {
   "display_name": "Python 3 (ipykernel)",
   "language": "python",
   "name": "python3"
  },
  "language_info": {
   "codemirror_mode": {
    "name": "ipython",
    "version": 3
   },
   "file_extension": ".py",
   "mimetype": "text/x-python",
   "name": "python",
   "nbconvert_exporter": "python",
   "pygments_lexer": "ipython3",
   "version": "3.10.13"
  }
 },
 "nbformat": 4,
 "nbformat_minor": 5
}
