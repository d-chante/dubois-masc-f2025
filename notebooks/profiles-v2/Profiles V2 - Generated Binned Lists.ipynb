{
 "cells": [
  {
   "cell_type": "code",
   "execution_count": 1,
   "id": "088f11bf-45c1-4bdc-8551-3f264c52735f",
   "metadata": {},
   "outputs": [],
   "source": [
    "# * * * * * * * * * * * * * * * *\n",
    "# Configuration\n",
    "# * * * * * * * * * * * * * * * *\n",
    "DATASET_DIR = '/workspace/datasets'\n",
    "INPUT_PROFILE_LIST_JSON_PATH= '/workspace/datasets/profiles-v2/profile_list_v2.json'\n",
    "OUTPUT_PROFILE_LIST_JSON = 'profile_list_v2_binned.json'\n",
    "\n",
    "NUM_BINS=50"
   ]
  },
  {
   "cell_type": "code",
   "execution_count": 2,
   "id": "9e673c56-e7b9-465f-b774-96bbdf470d8d",
   "metadata": {},
   "outputs": [],
   "source": [
    "import os\n",
    "\n",
    "from utils import ComputeMetricRangesV2, CreateBinnedProfileJsonV2, LoadProfileList\n",
    "\n",
    "# * * * * * * * * * * * * * * * *\n",
    "# Setting Variables\n",
    "# * * * * * * * * * * * * * * * *\n",
    "PROFILES_DIR = os.path.join(DATASET_DIR, f'profiles-v2', f'profiles-v2-jsons')\n",
    "OUTPUT_PROFILE_LIST_JSON_PATH = os.path.join(DATASET_DIR, 'profiles-v2', OUTPUT_PROFILE_LIST_JSON)"
   ]
  },
  {
   "cell_type": "code",
   "execution_count": 3,
   "id": "f53fc888-2130-489b-8215-8ac897d50ff5",
   "metadata": {},
   "outputs": [],
   "source": [
    "# * * * * * * * * * * * * * * * *\n",
    "# Load Profile List\n",
    "# * * * * * * * * * * * * * * * *\n",
    "profile_list = LoadProfileList(INPUT_PROFILE_LIST_JSON_PATH)"
   ]
  },
  {
   "cell_type": "code",
   "execution_count": 5,
   "id": "871a15bf-d09d-4069-81d7-58e84c1978f4",
   "metadata": {},
   "outputs": [
    {
     "name": "stderr",
     "output_type": "stream",
     "text": [
      "Computing metric ranges: 100%|██████████| 3891424/3891424 [21:06<00:00, 3071.40it/s] \n"
     ]
    }
   ],
   "source": [
    "# * * * * * * * * * * * * * * * *\n",
    "# Compute Metric Ranges\n",
    "# * * * * * * * * * * * * * * * *\n",
    "ranges = ComputeMetricRangesV2(PROFILES_DIR, profile_list)"
   ]
  },
  {
   "cell_type": "code",
   "execution_count": 6,
   "id": "c16ef926-6556-4437-89b0-71e6ec1e4b47",
   "metadata": {},
   "outputs": [
    {
     "name": "stderr",
     "output_type": "stream",
     "text": [
      "Binning files: 100%|██████████| 3891424/3891424 [17:43<00:00, 3658.31it/s] \n"
     ]
    }
   ],
   "source": [
    "# * * * * * * * * * * * * * * * *\n",
    "# Create Binned Json\n",
    "# * * * * * * * * * * * * * * * *\n",
    "CreateBinnedProfileJsonV2(PROFILES_DIR, profile_list, OUTPUT_PROFILE_LIST_JSON_PATH, ranges, NUM_BINS)"
   ]
  },
  {
   "cell_type": "code",
   "execution_count": null,
   "id": "0ec61936-da51-405f-b2a7-d0c16c0ff5be",
   "metadata": {},
   "outputs": [],
   "source": []
  }
 ],
 "metadata": {
  "kernelspec": {
   "display_name": "Python 3 (ipykernel)",
   "language": "python",
   "name": "python3"
  },
  "language_info": {
   "codemirror_mode": {
    "name": "ipython",
    "version": 3
   },
   "file_extension": ".py",
   "mimetype": "text/x-python",
   "name": "python",
   "nbconvert_exporter": "python",
   "pygments_lexer": "ipython3",
   "version": "3.10.13"
  }
 },
 "nbformat": 4,
 "nbformat_minor": 5
}
