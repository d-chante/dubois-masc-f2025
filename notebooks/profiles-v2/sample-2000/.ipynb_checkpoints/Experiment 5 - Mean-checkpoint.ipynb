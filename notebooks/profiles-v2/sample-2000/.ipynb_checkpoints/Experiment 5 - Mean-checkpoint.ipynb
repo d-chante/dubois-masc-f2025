{
 "cells": [
  {
   "cell_type": "code",
   "execution_count": null,
   "id": "598963e9-798a-4b65-b540-8520e008010d",
   "metadata": {},
   "outputs": [],
   "source": [
    "# * * * * * * * * * * * * * * * *\n",
    "# Configuration\n",
    "# * * * * * * * * * * * * * * * *\n",
    "EXPERIMENT_NUM='5'\n",
    "\n",
    "DATASET_DIR = '/workspace/datasets'\n",
    "OUTPUT_DIR = '/workspace/outputs'\n",
    "\n",
    "TARGET_METRIC='mean_temp'\n",
    "SAMPLE_SIZE=2000\n",
    "\n",
    "DEVICE = \"cpu\"\n",
    "\n",
    "LATENT_DIM=4\n",
    "BATCH_SIZE=200\n",
    "EPOCHS=100\n",
    "BETA=0.2\n",
    "LEARNING_RATE=1e-3\n",
    "GAMMA=0.1\n",
    "\n",
    "INPUT_DIM=(1,120)"
   ]
  },
  {
   "cell_type": "code",
   "execution_count": null,
   "id": "d42f91b7-098d-4a59-abf8-d1afdb86f60f",
   "metadata": {},
   "outputs": [],
   "source": [
    "import os\n",
    "from sklearn.preprocessing import StandardScaler\n",
    "import torch\n",
    "import torch.optim as optim\n",
    "from torch.optim.lr_scheduler import ExponentialLR\n",
    "from torchinfo import summary\n",
    "\n",
    "from lunar_vae import VAE, train, SampleLatentSpace, VisualizeLatentSpace\n",
    "from utils import (\n",
    "    CollectStatisticsFromProfilesV2,\n",
    "    ConvertProfileListToCsv,\n",
    "    CreateProfileSubset,\n",
    "    GenerateDensityPlot,\n",
    "    GetDataMetrics,\n",
    "    GetMeanLatentValues,\n",
    "    LoadProfileList,\n",
    "    LoadTemperatureDataV2,\n",
    "    PlotHistograms,\n",
    "    PlotComparativeHistograms,\n",
    "    PlotLosses,\n",
    "    PrintAndLog,\n",
    "    SaveLossesToCSV,\n",
    "    SetupOutputDir,\n",
    "    SplitAndNormalizeData,\n",
    ")\n",
    "\n",
    "# * * * * * * * * * * * * * * * *\n",
    "# Setting Variables\n",
    "# * * * * * * * * * * * * * * * *\n",
    "PROFILES_DIR = os.path.join(DATASET_DIR, f'profiles-v2', f'profiles-v2-jsons')\n",
    "ORIGINAL_PROFILE_LIST_JSON = os.path.join(DATASET_DIR, f'profiles-v2', f'profile_list_v2.json')\n",
    "LABEL = f'profiles_v2_experiment_{EXPERIMENT_NUM}'\n",
    "BINNED_PROFILE_LIST = os.path.join(DATASET_DIR, 'profiles-v2', 'profile_list_v2_binned.json')\n",
    "\n",
    "# * * * * * * * * * * * * * * * *\n",
    "# Make Directory\n",
    "# * * * * * * * * * * * * * * * *\n",
    "model_dir = SetupOutputDir(OUTPUT_DIR, parent_folder=LABEL, sub_folders=[\"reconstruction_images\"])\n",
    "print(f\"Created directory {model_dir}\")"
   ]
  },
  {
   "cell_type": "code",
   "execution_count": null,
   "id": "e15e5547-1b59-4da3-97c8-106f6b57314e",
   "metadata": {},
   "outputs": [],
   "source": [
    "# * * * * * * * * * * * * * * * *\n",
    "# Create Subset by Metric\n",
    "# * * * * * * * * * * * * * * * *\n",
    "SUBSET_PROFILE_LIST = os.path.join(model_dir, f'profile_list_v2_{TARGET_METRIC}_{SAMPLE_SIZE}.json')\n",
    "CreateProfileSubset(BINNED_PROFILE_LIST, SUBSET_PROFILE_LIST, TARGET_METRIC, SAMPLE_SIZE)"
   ]
  },
  {
   "cell_type": "code",
   "execution_count": null,
   "id": "20af33f4-29c5-4a75-b622-cee61a3b8b6b",
   "metadata": {},
   "outputs": [],
   "source": [
    "# * * * * * * * * * * * * * * * *\n",
    "# Load Profile List\n",
    "# * * * * * * * * * * * * * * * *\n",
    "profile_list = LoadProfileList(SUBSET_PROFILE_LIST)"
   ]
  },
  {
   "cell_type": "code",
   "execution_count": null,
   "id": "072e7c66-587c-4440-91c0-a5abf1d0b5af",
   "metadata": {},
   "outputs": [],
   "source": [
    "# * * * * * * * * * * * * * * * *\n",
    "# Convert to CSV\n",
    "# * * * * * * * * * * * * * * * *\n",
    "csv_path = ConvertProfileListToCsv(PROFILES_DIR, profile_list, model_dir)"
   ]
  },
  {
   "cell_type": "code",
   "execution_count": null,
   "id": "b80fe93a-9325-4474-b28f-a645d4fa2577",
   "metadata": {},
   "outputs": [],
   "source": [
    "# * * * * * * * * * * * * * * * *\n",
    "# Load Temp Data\n",
    "# * * * * * * * * * * * * * * * *\n",
    "temp_data = LoadTemperatureDataV2(csv_path, DEVICE)"
   ]
  },
  {
   "cell_type": "code",
   "execution_count": null,
   "id": "0336d92d-351e-45b5-87d4-da41a5b85ca2",
   "metadata": {},
   "outputs": [],
   "source": [
    "# * * * * * * * * * * * * * * * *\n",
    "# Generate Density Plot\n",
    "# * * * * * * * * * * * * * * * *\n",
    "GenerateDensityPlot(temp_data, model_dir)"
   ]
  },
  {
   "cell_type": "code",
   "execution_count": null,
   "id": "fb4614fd-6b04-43d2-93c2-ad10f249ce07",
   "metadata": {},
   "outputs": [],
   "source": [
    "# * * * * * * * * * * * * * * * *\n",
    "# Load Original Profile List\n",
    "# * * * * * * * * * * * * * * * *\n",
    "original_profile_list = LoadProfileList(ORIGINAL_PROFILE_LIST_JSON)"
   ]
  },
  {
   "cell_type": "code",
   "execution_count": null,
   "id": "ca70bdfc-ad51-4ac5-8dc3-bd7042a7a60b",
   "metadata": {},
   "outputs": [],
   "source": [
    "# * * * * * * * * * * * * * * * *\n",
    "# Generate Histograms\n",
    "# * * * * * * * * * * * * * * * *\n",
    "statistics_original = CollectStatisticsFromProfilesV2(PROFILES_DIR, original_profile_list)\n",
    "statistics_subset = CollectStatisticsFromProfilesV2(PROFILES_DIR, profile_list)\n",
    "PlotComparativeHistograms(statistics_original, statistics_subset, labels=(\"Original\", f\"{TARGET_METRIC} @ {SAMPLE_SIZE}\"), output_dir=model_dir)"
   ]
  },
  {
   "cell_type": "code",
   "execution_count": null,
   "id": "7284ceb6-be4a-403b-8a6e-2c2208ffbe5e",
   "metadata": {},
   "outputs": [],
   "source": [
    "# * * * * * * * * * * * * * * * *\n",
    "# Training Log\n",
    "# * * * * * * * * * * * * * * * \n",
    "log_filepath = os.path.join(model_dir, 'training.log')\n",
    "\n",
    "# * * * * * * * * * * * * * * * *\n",
    "# Data Prep\n",
    "# * * * * * * * * * * * * * * * *\n",
    "x_data_mean, x_data_std, x_data_min, x_data_max = GetDataMetrics(temp_data)\n",
    "\n",
    "PrintAndLog(log_filepath, \"Data Metrics:\\n\")\n",
    "PrintAndLog(log_filepath, f\"\\tMean: {x_data_mean:.4f}\\n\")\n",
    "PrintAndLog(log_filepath, f\"\\tSTD: {x_data_std:.4f}\\n\")\n",
    "PrintAndLog(log_filepath, f\"\\tMin Temp: {x_data_min:.4f}\\n\")\n",
    "PrintAndLog(log_filepath, f\"\\tMax Temp: {x_data_max:.4f}\\n\")\n",
    "\n",
    "# Normalize Data (Mean=0, STD=1)\n",
    "scaler = StandardScaler()\n",
    "train_loader, val_loader, test_loader = SplitAndNormalizeData(\n",
    "\ttemp_data, scaler, BATCH_SIZE, DEVICE)\n",
    "\n",
    "PrintAndLog(log_filepath, \"Datasets:\\n\")\n",
    "PrintAndLog(\n",
    "\tlog_filepath,\n",
    "\tf\"\\tTraining Data: {len(train_loader.dataset)}\\n\")\n",
    "PrintAndLog(\n",
    "\tlog_filepath,\n",
    "\tf\"\\tValidation Data: {len(val_loader.dataset)}\\n\")\n",
    "PrintAndLog(log_filepath, f\"\\tTest Data: {len(test_loader.dataset)}\\n\")"
   ]
  },
  {
   "cell_type": "code",
   "execution_count": null,
   "id": "0f62c9e0-3557-4ac9-bbba-adf716b25931",
   "metadata": {},
   "outputs": [],
   "source": [
    "# * * * * * * * * * * * * * * * *\n",
    "# VAE Setup\n",
    "# * * * * * * * * * * * * * * * *\n",
    "vae = VAE(latent_dim=LATENT_DIM).to(DEVICE)\n",
    "optimizer = optim.Adam(vae.parameters(), lr=LEARNING_RATE, weight_decay=0)\n",
    "scheduler = ExponentialLR(optimizer, gamma=GAMMA)\n",
    "\n",
    "summary(vae, input_size=(BATCH_SIZE, INPUT_DIM[0], INPUT_DIM[1]))"
   ]
  },
  {
   "cell_type": "code",
   "execution_count": null,
   "id": "72432356-8908-42be-ab2d-0d7dcae2b933",
   "metadata": {},
   "outputs": [],
   "source": [
    "# * * * * * * * * * * * * * * * *\n",
    "# Train and Validate\n",
    "# * * * * * * * * * * * * * * * *\n",
    "losses = train(\n",
    "\tvae, train_loader, val_loader,\n",
    "\toptimizer, scheduler, DEVICE, EPOCHS,\n",
    "\tBETA, model_dir)"
   ]
  },
  {
   "cell_type": "code",
   "execution_count": null,
   "id": "5f91c33d-5a1e-4bc3-bceb-8c784e2b8e79",
   "metadata": {},
   "outputs": [],
   "source": [
    "# * * * * * * * * * * * * * * * *\n",
    "# Plot Losses\n",
    "# * * * * * * * * * * * * * * * *\n",
    "PlotLosses(losses, EPOCHS, model_dir)\n",
    "SaveLossesToCSV(losses, os.path.join(model_dir, \"losses.csv\"))"
   ]
  },
  {
   "cell_type": "code",
   "execution_count": null,
   "id": "ac79b063-2b58-4d30-9d49-7d5303edfd3e",
   "metadata": {},
   "outputs": [],
   "source": [
    "# * * * * * * * * * * * * * * * *\n",
    "# Best Validation Loss\n",
    "# * * * * * * * * * * * * * * * *\n",
    "PrintAndLog(log_filepath, \"Best Validation Loss in Kelvins:\\n\")\n",
    "PrintAndLog(\n",
    "\tlog_filepath,\n",
    "\tf\"\\t{min(losses['val_l1_losses'])*x_data_std:.4f} K\\n\")"
   ]
  },
  {
   "cell_type": "code",
   "execution_count": null,
   "id": "bddf6800-b1c7-406b-9868-7cef7660df39",
   "metadata": {},
   "outputs": [],
   "source": [
    "# * * * * * * * * * * * * * * * *\n",
    "# Sample\n",
    "# * * * * * * * * * * * * * * * *\n",
    "z_sample = SampleLatentSpace(\n",
    "\tvae,\n",
    "\ttest_loader,\n",
    "\tscaler,\n",
    "\tDEVICE,\n",
    "\tmodel_dir\n",
    ")"
   ]
  },
  {
   "cell_type": "code",
   "execution_count": null,
   "id": "3523d1c3-f1b5-4057-8e05-7a9316aee3b1",
   "metadata": {},
   "outputs": [],
   "source": [
    "# * * * * * * * * * * * * * * * *\n",
    "# Analyze Latent Space\n",
    "# * * * * * * * * * * * * * * * *\n",
    "mean_latent_vals = GetMeanLatentValues(z_sample, LATENT_DIM)\n",
    "for i in range(LATENT_DIM):\n",
    "\tprint(f\"z{i}: {mean_latent_vals[i]:.4f}\")\n",
    "\n",
    "VisualizeLatentSpace(\n",
    "\tvae, LATENT_DIM, z_sample,\n",
    "\tscaler, DEVICE, model_dir)"
   ]
  },
  {
   "cell_type": "code",
   "execution_count": null,
   "id": "54233bba-e502-4634-8f60-6ed723ce492c",
   "metadata": {},
   "outputs": [],
   "source": []
  }
 ],
 "metadata": {
  "kernelspec": {
   "display_name": "Python 3 (ipykernel)",
   "language": "python",
   "name": "python3"
  },
  "language_info": {
   "codemirror_mode": {
    "name": "ipython",
    "version": 3
   },
   "file_extension": ".py",
   "mimetype": "text/x-python",
   "name": "python",
   "nbconvert_exporter": "python",
   "pygments_lexer": "ipython3",
   "version": "3.10.13"
  }
 },
 "nbformat": 4,
 "nbformat_minor": 5
}
