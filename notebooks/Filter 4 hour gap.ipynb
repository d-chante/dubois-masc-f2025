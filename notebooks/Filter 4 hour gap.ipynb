{
 "cells": [
  {
   "cell_type": "code",
   "execution_count": 1,
   "id": "64f23471-60c4-49b4-a7ea-71f4c9ec58ae",
   "metadata": {},
   "outputs": [],
   "source": [
    "# Demonstrate impact of filter based on requiring a gap of >= 4 hours in raw data\n",
    "import json\n",
    "from tqdm import tqdm\n",
    "\n",
    "DATASET_DIR = '/workspace/datasets'\n",
    "INPUT_CSV = '/workspace/datasets/profiles-v2/profiles-v2.csv'\n",
    "\n",
    "# the raw data was kept in the profiles-v2 jsons\n",
    "def LoadRawTimesV2(input_csv_path):\n",
    "    data_list = []\n",
    "    with open(input_csv_path, \"r\", encoding=\"utf-8\") as file:\n",
    "        for line in tqdm(file, desc=\"Loading JSON lines\"):\n",
    "            try:\n",
    "                data = json.loads(line.strip())\n",
    "                data_list.append(data['raw_data']['time'])\n",
    "            except json.JSONDecodeError as e:\n",
    "                tqdm.write(f\"Skipping line due to error: {e}\")\n",
    "    return data_list\n",
    "\n",
    "def NumProfilesWithMinGap(times_list, min_gap_hours=4):\n",
    "    count = 0\n",
    "    for times in tqdm(times_list, desc=\"Gap search\"):\n",
    "        if not times:\n",
    "            continue\n",
    "        gaps = [t2 - t1 for t1, t2 in zip(times, times[1:])]\n",
    "        if any(gap >= min_gap_hours for gap in gaps):\n",
    "            count += 1\n",
    "    return count"
   ]
  },
  {
   "cell_type": "code",
   "execution_count": 2,
   "id": "0cfa0d05-596a-44c3-8b7e-fc2d66b42d56",
   "metadata": {},
   "outputs": [
    {
     "name": "stderr",
     "output_type": "stream",
     "text": [
      "Loading JSON lines: 3891424it [04:33, 14218.68it/s]\n"
     ]
    }
   ],
   "source": [
    "raw_times = LoadRawTimesV2(INPUT_CSV)"
   ]
  },
  {
   "cell_type": "code",
   "execution_count": 3,
   "id": "f6a21ca5-05d5-42a5-aeff-56416af3db48",
   "metadata": {},
   "outputs": [
    {
     "name": "stderr",
     "output_type": "stream",
     "text": [
      "Gap search: 100%|██████████| 3891424/3891424 [00:19<00:00, 199356.99it/s]"
     ]
    },
    {
     "name": "stdout",
     "output_type": "stream",
     "text": [
      "Number of profiles kept: 168315\n"
     ]
    },
    {
     "name": "stderr",
     "output_type": "stream",
     "text": [
      "\n"
     ]
    }
   ],
   "source": [
    "num_profiles_kept = NumProfilesWithMinGap(raw_times, 4)\n",
    "print(f\"Number of profiles kept: {num_profiles_kept}\")"
   ]
  }
 ],
 "metadata": {
  "kernelspec": {
   "display_name": "Python 3 (ipykernel)",
   "language": "python",
   "name": "python3"
  },
  "language_info": {
   "codemirror_mode": {
    "name": "ipython",
    "version": 3
   },
   "file_extension": ".py",
   "mimetype": "text/x-python",
   "name": "python",
   "nbconvert_exporter": "python",
   "pygments_lexer": "ipython3",
   "version": "3.10.13"
  }
 },
 "nbformat": 4,
 "nbformat_minor": 5
}
